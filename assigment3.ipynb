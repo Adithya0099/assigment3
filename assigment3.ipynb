{
 "cells": [
  {
   "cell_type": "markdown",
   "metadata": {},
   "source": [
    "Assigment 3"
   ]
  },
  {
   "cell_type": "code",
   "execution_count": null,
   "metadata": {},
   "outputs": [],
   "source": [
    "\n",
    "1)Write a Python Program to implement your own myreduce() function which works exactly like Python's built-in function reduce()"
   ]
  },
  {
   "cell_type": "code",
   "execution_count": 3,
   "metadata": {},
   "outputs": [
    {
     "name": "stdout",
     "output_type": "stream",
     "text": [
      "entered string: [1, 2, 3, 4, 5]\n",
      "reduced string:  15\n"
     ]
    }
   ],
   "source": [
    "def my_reduce(func,sequence) :\n",
    "    res=sequence[0]\n",
    "    for variable in sequence[1:]:\n",
    "        res =func(variable,res)             #we are performing addition of elements in list\n",
    "\n",
    "    return res\n",
    "\n",
    "\n",
    "def my_sum(a,b):\n",
    "    return a+b\n",
    "\n",
    "\n",
    "seq=[1,2,3,4,5]\n",
    "print(\"entered string:\",seq)\n",
    "print(\"reduced string: \",str(my_reduce(my_sum,seq)))"
   ]
  },
  {
   "cell_type": "code",
   "execution_count": null,
   "metadata": {},
   "outputs": [],
   "source": [
    "\n",
    "2)Write a Python program to implement your own myfilter() function which works exactly like Python's built-in function filter()"
   ]
  },
  {
   "cell_type": "code",
   "execution_count": 4,
   "metadata": {},
   "outputs": [
    {
     "name": "stdout",
     "output_type": "stream",
     "text": [
      "orginal list  [1, 2, 3, 4, 5, 6, 7, 8]\n",
      "filtered list  [2, 4, 6, 8]\n"
     ]
    }
   ],
   "source": [
    "\n",
    "def myfilter(func,li):\n",
    "    r=[] \n",
    "    for s in li:\n",
    "        if func(s):\n",
    "            r.append(s)\n",
    "    return r    \n",
    "\n",
    "    \n",
    "def iseven(lis) :\n",
    "        if lis%2==0:\n",
    "            return True\n",
    "        else:\n",
    "            return False\n",
    "               \n",
    "l=[1,2,3,4,5,6,7,8] \n",
    "w=myfilter(iseven,l)\n",
    "print(\"orginal list \",l)\n",
    "print(\"filtered list \",w)"
   ]
  },
  {
   "cell_type": "code",
   "execution_count": null,
   "metadata": {},
   "outputs": [],
   "source": [
    "3) Implement List comprehensions to produce the following lists. Write List comprehensions to produce the following Lists\n",
    "\n",
    "3a)['x', 'xx', 'xxx', 'xxxx', 'y', 'yy', 'yyy', 'yyyy', 'z', 'zz', 'zzz', 'zzzz']"
   ]
  },
  {
   "cell_type": "code",
   "execution_count": 5,
   "metadata": {},
   "outputs": [
    {
     "name": "stdout",
     "output_type": "stream",
     "text": [
      "list is  ['x', 'xx', 'xxx', 'xxxx', 'y', 'yy', 'yyy', 'yyyy', 'z', 'zz', 'zzz', 'zzzz']\n"
     ]
    }
   ],
   "source": [
    "l=['x','y','z']\n",
    "s=[]\n",
    "for i in iter(l):\n",
    "    for j in range(1,5):\n",
    "        o=i*j\n",
    "        s.append(o)\n",
    "\n",
    "\n",
    "print(\"list is \",s)"
   ]
  },
  {
   "cell_type": "code",
   "execution_count": null,
   "metadata": {},
   "outputs": [],
   "source": []
  }
 ],
 "metadata": {
  "kernelspec": {
   "display_name": "Python 3",
   "language": "python",
   "name": "python3"
  },
  "language_info": {
   "codemirror_mode": {
    "name": "ipython",
    "version": 3
   },
   "file_extension": ".py",
   "mimetype": "text/x-python",
   "name": "python",
   "nbconvert_exporter": "python",
   "pygments_lexer": "ipython3",
   "version": "3.7.3"
  }
 },
 "nbformat": 4,
 "nbformat_minor": 2
}
